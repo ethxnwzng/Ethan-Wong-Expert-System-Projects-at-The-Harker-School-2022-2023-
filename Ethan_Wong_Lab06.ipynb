{
  "cells": [
    {
      "cell_type": "markdown",
      "metadata": {
        "id": "view-in-github",
        "colab_type": "text"
      },
      "source": [
        "<a href=\"https://colab.research.google.com/github/ethxnwzng/Ethan-Wong-Expert-System-Projects-at-The-Harker-School-2022-2023-/blob/main/Ethan_Wong_Lab06.ipynb\" target=\"_parent\"><img src=\"https://colab.research.google.com/assets/colab-badge.svg\" alt=\"Open In Colab\"/></a>"
      ]
    },
    {
      "cell_type": "markdown",
      "metadata": {
        "id": "1ffjBJA1dp2Y"
      },
      "source": [
        "<a href=\"https://colab.research.google.com/github/LMU-CMSI-1010/lab-notebooks-original/blob/main/Lab06.ipynb\" target=\"_parent\"><img src=\"https://colab.research.google.com/assets/colab-badge.svg\" alt=\"Open In Colab\"/></a>"
      ]
    },
    {
      "cell_type": "markdown",
      "metadata": {
        "id": "9aXfrLXg9seM"
      },
      "source": [
        "# Lab 06 Mixing Strings\n",
        "In this lab, you will practice working with strings and using loops with strings.\n",
        "\n",
        "## Warmup: Character counter\n",
        "\n",
        "In the following cell, **complete the function `count_character` that, given a string and character, returns the number of occurrences of the character in the string.** Right now, it just returns 0. We have some code to test your function and **you can add more calls to test it.**\n",
        "\n"
      ]
    },
    {
      "cell_type": "code",
      "execution_count": 45,
      "metadata": {
        "id": "Rt0kFDWS9RJU",
        "colab": {
          "base_uri": "https://localhost:8080/"
        },
        "outputId": "58b0b350-81dc-47f9-da8c-7c47e5105af8"
      },
      "outputs": [
        {
          "output_type": "stream",
          "name": "stdout",
          "text": [
            "3\n",
            "4\n"
          ]
        }
      ],
      "source": [
        "# TODO: count_character is given a string s and a character c and returns the number\n",
        "# of occurrences of c in s\n",
        "def count_character(s, c):\n",
        "    counter = 0\n",
        "    for x in s:\n",
        "     if x == c:\n",
        "      counter = counter + 1\n",
        "    return counter\n",
        "\n",
        "# Debugging function calls. You can add more or change\n",
        "# The following should return 3\n",
        "char_count = count_character('banana', 'a')\n",
        "print(char_count)\n",
        "\n",
        "# The following call should return 4\n",
        "char_count = count_character('mississippi', 's')\n",
        "print(char_count)\n",
        "\n",
        "# The following tests your code. Do not modify it.\n",
        "assert(count_character('banana', 'a') == 3)\n",
        "assert(count_character('mississippi', 's') == 4)\n",
        "assert(count_character('loyola', 'l') == 2)"
      ]
    },
    {
      "cell_type": "markdown",
      "metadata": {
        "id": "y2c-tRWA91fr"
      },
      "source": [
        "## Repeating Strings\n",
        "Python gives you an operator to make multiple copies of a string. However, below we want you to **complete this function to return a string `s` repeated `n` times _using a loop_ instead.** You can **test your code by running the code we have provided and creating your own function calls.**"
      ]
    },
    {
      "cell_type": "code",
      "execution_count": 47,
      "metadata": {
        "id": "NMcvm3E4-sl_",
        "colab": {
          "base_uri": "https://localhost:8080/"
        },
        "outputId": "19a85158-5d74-48c7-df55-a848fe63c4eb"
      },
      "outputs": [
        {
          "output_type": "stream",
          "name": "stdout",
          "text": [
            "hellohellohello\n"
          ]
        }
      ],
      "source": [
        "def repeat_string(s, n):\n",
        "  str = s\n",
        "  for x in range (1, n):\n",
        "    s += str\n",
        "  return s\n",
        "\n",
        "print(repeat_string('hello', 3))\n",
        "\n",
        "# The code below tests your function. Do not modify it.\n",
        "assert(repeat_string('hello', 3) == 'hellohellohello')\n",
        "assert(repeat_string('hi', 5) == 'hihihihihi')"
      ]
    },
    {
      "cell_type": "markdown",
      "metadata": {
        "id": "zXC7orYI_T3E"
      },
      "source": [
        "## Mixing names\n",
        "In the following cell, you will write a program that will prompt a user for two names. The user should enter a first name and last name separated by a space.\n",
        "**You will have to figure out how to retrieve the first name and last name from the name input by the user. Then you will mix the two names up and output the new mixed names.**"
      ]
    },
    {
      "cell_type": "code",
      "execution_count": 44,
      "metadata": {
        "id": "fpq9XjRC_TJG",
        "colab": {
          "base_uri": "https://localhost:8080/"
        },
        "outputId": "821925bb-93b8-4b82-cb82-f186082350f8"
      },
      "outputs": [
        {
          "output_type": "stream",
          "name": "stdout",
          "text": [
            "Please enter a FIRST NAME followed by a LAST NAME separated by a space:Ethan Wong\n",
            "Please enter another FIRST NAME followed by a LAST NAME separated by a space:Joelle Medenilla\n",
            "evem\n",
            "Here are the new mixed up names:\n",
            "Ethlle  Woilla\n",
            "Joean  Medenng\n"
          ]
        }
      ],
      "source": [
        "'''\n",
        "NOTE: For names with an odd number of characters, I chose to split it so that the first group will always have one more\n",
        "character than the last. For ex for the last name \"Med\", the first half of the string will be \"Me\", and the second half\n",
        "will be just \"d\"\n",
        "'''\n",
        "\n",
        "name1 = input('Please enter a FIRST NAME followed by a LAST NAME separated by a space:')\n",
        "name2 = input('Please enter another FIRST NAME followed by a LAST NAME separated by a space:')\n",
        "\n",
        "# TODO: Now process the user input to find the first names and last names\n",
        "# Right now you have strings containing both, so find the space first\n",
        "# and save the first name substrings and the last name substrings in separate variables\n",
        "# If you prefer, you can also use split() to separate the first and last names\n",
        "\n",
        "count1 = 0\n",
        "while name1[count1: count1 + 1] != ' ':\n",
        "  count1 += 1\n",
        "count2 = 0\n",
        "while name2[count2: count2 + 1] != ' ':\n",
        "  count2 += 1\n",
        "\n",
        "# TODO: In order to mix up the strings you need to find the midpoint of each name\n",
        "# Challenge: How could you split strings at random points instead?\n",
        "name1midF = 0\n",
        "if len(name1[0:count1]) % 2 ==0:\n",
        "  name1midF = int(count1/2)\n",
        "else:\n",
        "  name1midF = int((count1 - 1)/2) + 1\n",
        "\n",
        "name2midF = 0\n",
        "if len(name2[0:count2]) % 2 ==0:\n",
        "  name2midF = int(count2/2)\n",
        "else:\n",
        "  name2midF = int((count2 - 1)/2) + 1\n",
        "\n",
        "name1midL = 0\n",
        "if len(name1[count1: len(name1) - 1]) % 2 == 0:\n",
        "  add = int(((len(name1) - 1) - count1) / 2) + 1\n",
        "  name1midL = count1 + add\n",
        "  print('evem')\n",
        "else:\n",
        "  add = int((((len(name1) - 1) - count1) / 2) + 1) + 1\n",
        "  name1midL = count1 + add\n",
        "\n",
        "name2midL = 0\n",
        "if len(name2[count2: len(name2) - 1]) % 2 == 0:\n",
        "  add = int(((len(name2) - 1) - count2) / 2) + 1\n",
        "  name2midL = count2 + add\n",
        "else:\n",
        "  add = int((((len(name2) - 1) - count2) / 2) + 1) + 1\n",
        "  name2midL = count2 + add\n",
        "\n",
        "# TODO: Get the substrings for the first halves and second halves of each name\n",
        "# You want to combine the names to create 2 new first and last names\n",
        "# Make sure the capitalization is correct\n",
        "# Use capitalize() to capitalize and lower() to make all lowercase\n",
        "# Combine the first half of the first first name and the second half of the second\n",
        "# first name to create a new first name\n",
        "new_first_name1 = name1[0:name1midF] + name2[name2midF: count2]\n",
        "\n",
        "\n",
        "# TODO: Combine the first half of the first last name and the second half of the second\n",
        "# last name to create a new last name\n",
        "new_last_name1 = name1[count1: name1midL] + name2[name2midL: (len(name2))]\n",
        "\n",
        "# TODO: Combine the first half of the second first name and the second half of the first\n",
        "# first name to create a new first name\n",
        "\n",
        "new_first_name2 = name2[0:name2midF] + name1[name1midF: count1]\n",
        "\n",
        "# TODO: Combine the first half of the second last name and the second half of the first\n",
        "# last name to create a new last name\n",
        "new_last_name2 = name2[count2: name2midL] + name1[name1midL: (len(name1))]\n",
        "\n",
        "# print out both new names\n",
        "# you do not need to change the following code.\n",
        "print('Here are the new mixed up names:')\n",
        "print(new_first_name1, new_last_name1)\n",
        "print(new_first_name2, new_last_name2)\n",
        "\n",
        "assert(new_first_name1 != '')\n",
        "assert(new_first_name2 != '')\n",
        "assert(new_last_name1 != '')\n",
        "assert(new_last_name2 != '')"
      ]
    },
    {
      "cell_type": "markdown",
      "metadata": {
        "id": "dKL0LYd-E4JB"
      },
      "source": [
        "### (Optional) Reflections\n",
        "Add a text cell below to answer the following questions:\n",
        "1. What do you feel more confident about after completing this lab?\n",
        "2. What do you feel you can use more help with after completing this lab?\n",
        "3. Do you have any constructive suggestions on how we can help you or improve this lab?"
      ]
    },
    {
      "cell_type": "markdown",
      "metadata": {
        "id": "gB1aHDpyFYey"
      },
      "source": [
        "### Save your work to GitHub\n",
        "Please save this notebook to your lab repository."
      ]
    }
  ],
  "metadata": {
    "kernelspec": {
      "display_name": "Python 3",
      "language": "python",
      "name": "python3"
    },
    "language_info": {
      "codemirror_mode": {
        "name": "ipython",
        "version": 3
      },
      "file_extension": ".py",
      "mimetype": "text/x-python",
      "name": "python",
      "nbconvert_exporter": "python",
      "pygments_lexer": "ipython3",
      "version": "3.8.5"
    },
    "colab": {
      "provenance": [],
      "include_colab_link": true
    }
  },
  "nbformat": 4,
  "nbformat_minor": 0
}